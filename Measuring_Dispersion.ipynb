{
  "nbformat": 4,
  "nbformat_minor": 0,
  "metadata": {
    "colab": {
      "provenance": [],
      "authorship_tag": "ABX9TyMdL8e7Dti9CvKq65ed3ekD",
      "include_colab_link": true
    },
    "kernelspec": {
      "name": "python3",
      "display_name": "Python 3"
    },
    "language_info": {
      "name": "python"
    }
  },
  "cells": [
    {
      "cell_type": "markdown",
      "metadata": {
        "id": "view-in-github",
        "colab_type": "text"
      },
      "source": [
        "<a href=\"https://colab.research.google.com/github/JoshInkiriwang/Angular_Ionic/blob/main/Measuring_Dispersion.ipynb\" target=\"_parent\"><img src=\"https://colab.research.google.com/assets/colab-badge.svg\" alt=\"Open In Colab\"/></a>"
      ]
    },
    {
      "cell_type": "markdown",
      "source": [
        "**Tutorial**"
      ],
      "metadata": {
        "id": "7wsxw0hcSHu3"
      }
    },
    {
      "cell_type": "code",
      "execution_count": null,
      "metadata": {
        "colab": {
          "base_uri": "https://localhost:8080/"
        },
        "id": "jmYE-e-qRbwf",
        "outputId": "588dae81-c8ef-47ae-8f03-feaee6d8d43c"
      },
      "outputs": [
        {
          "output_type": "stream",
          "name": "stdout",
          "text": [
            "Nilai range dari data tersebut adalah 3\n"
          ]
        }
      ],
      "source": [
        "# Range\n",
        "# untuk melihat perbedaan antara nilai maksimum dan minimum dari suatu data.\n",
        "\n",
        "import numpy as np\n",
        "\n",
        "jumlah_kucing = np.array([3, 2, 1, 1, 2, 3, 2, 1, 0, 2])\n",
        "range = jumlah_kucing.max() - jumlah_kucing.min()\n",
        "\n",
        "print(\"Nilai range dari data tersebut adalah\", range)"
      ]
    },
    {
      "cell_type": "code",
      "source": [
        "# Interquartile Range / IQR\n",
        "# selisih antara kuartil ketiga (Q3) dan kuartil pertama (Q1)\n",
        "\n",
        "import numpy as np\n",
        "\n",
        "jumlah_kucing = np.array([3, 2, 1, 1, 2, 3, 2, 1, 0, 2])\n",
        "iqr = np.percentile(jumlah_kucing, 75) - np.percentile(jumlah_kucing, 25)\n",
        "\n",
        "print(\"Selisih dari Q3 dan Q1 data ialah\", iqr)"
      ],
      "metadata": {
        "colab": {
          "base_uri": "https://localhost:8080/"
        },
        "id": "Q4py2IHjSkm7",
        "outputId": "319073a9-79c5-4c19-d971-25d6344cc3eb"
      },
      "execution_count": null,
      "outputs": [
        {
          "output_type": "stream",
          "name": "stdout",
          "text": [
            "Selisih dari Q3 dan Q1 data ialah 1.0\n"
          ]
        }
      ]
    },
    {
      "cell_type": "code",
      "source": [
        "# Variance\n",
        "# untuk menggambarkan besar simpangan suatu titik data dari nilai mean-nya\n",
        "import numpy as np\n",
        "import pandas as pd\n",
        "\n",
        "jumlah_kucing = np.array([3, 2, 1, 1, 2, 3, 2, 1, 0, 2])\n",
        "jumlah_kucing_series = pd.Series(jumlah_kucing)\n",
        "jumlah_kucing_series.var()"
      ],
      "metadata": {
        "colab": {
          "base_uri": "https://localhost:8080/"
        },
        "id": "_VQ2kvqRSvGl",
        "outputId": "03a673ab-28cf-4ffd-b860-5d76bc47fdb9"
      },
      "execution_count": null,
      "outputs": [
        {
          "output_type": "execute_result",
          "data": {
            "text/plain": [
              "0.8999999999999999"
            ]
          },
          "metadata": {},
          "execution_count": 21
        }
      ]
    },
    {
      "cell_type": "code",
      "source": [
        "# Standard deviation menghitung akar kuadrat dari variance.\n",
        "# Semakin kecil nilai standard deviation, semakin kecil pula jarak antar titik data dengan nilai mean-nya sehingga bisa disimpulkan\n",
        "#data tersebut memiliki sebaran yang sempit. Di sisi lain, semakin besar nilai standard deviation, semakin luas pula sebaran datanya\n",
        "\n",
        "import numpy as np\n",
        "import pandas as pd\n",
        "\n",
        "jumlah_kucing = np.array([3, 2, 1, 1, 2, 3, 2, 1, 0, 2])\n",
        "jumlah_kucing_series = pd.Series(jumlah_kucing)\n",
        "jumlah_kucing_series.std()"
      ],
      "metadata": {
        "id": "aVIX4m26TZTS",
        "colab": {
          "base_uri": "https://localhost:8080/"
        },
        "outputId": "c3583757-bcd5-4ec4-883f-8ba3b37085d0"
      },
      "execution_count": 23,
      "outputs": [
        {
          "output_type": "execute_result",
          "data": {
            "text/plain": [
              "0.9486832980505138"
            ]
          },
          "metadata": {},
          "execution_count": 23
        }
      ]
    },
    {
      "cell_type": "code",
      "source": [],
      "metadata": {
        "id": "7ZrtHsqDfTXu"
      },
      "execution_count": null,
      "outputs": []
    }
  ]
}