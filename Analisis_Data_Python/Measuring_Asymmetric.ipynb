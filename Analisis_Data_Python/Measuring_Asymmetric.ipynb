{
  "nbformat": 4,
  "nbformat_minor": 0,
  "metadata": {
    "colab": {
      "provenance": [],
      "authorship_tag": "ABX9TyOHK0+l6iYTZCtvL6bmEsDj",
      "include_colab_link": true
    },
    "kernelspec": {
      "name": "python3",
      "display_name": "Python 3"
    },
    "language_info": {
      "name": "python"
    }
  },
  "cells": [
    {
      "cell_type": "markdown",
      "metadata": {
        "id": "view-in-github",
        "colab_type": "text"
      },
      "source": [
        "<a href=\"https://colab.research.google.com/github/JoshInkiriwang/Angular_Ionic/blob/main/Analisis_Data_Python/Measuring_Asymmetric.ipynb\" target=\"_parent\"><img src=\"https://colab.research.google.com/assets/colab-badge.svg\" alt=\"Open In Colab\"/></a>"
      ]
    },
    {
      "cell_type": "code",
      "execution_count": 1,
      "metadata": {
        "id": "Z5YWHPjTXgG4"
      },
      "outputs": [],
      "source": [
        "# Data Distribution\n",
        "# Menggunakan Grafik Histogram"
      ]
    },
    {
      "cell_type": "code",
      "source": [
        "# Symmetric Distribution\n",
        "# (Normal Distribution atau Bell Curve Distribution)\n",
        "# Mean = Median = Mode"
      ],
      "metadata": {
        "id": "8yQwlZW1aOQ-"
      },
      "execution_count": null,
      "outputs": []
    },
    {
      "cell_type": "code",
      "source": [
        "# Right-skewed Distribution\n",
        "# Mean > Median\n",
        "# Sebagian besar populasi data yang terkonsentrasi pada bagian kiri."
      ],
      "metadata": {
        "id": "BJo8uoFjer3h"
      },
      "execution_count": null,
      "outputs": []
    },
    {
      "cell_type": "code",
      "source": [
        "# Left-skewed Distribution\n",
        "# Mean < Median\n",
        "# Sebagian besar populasi data yang terkonsentrasi pada bagian kanan."
      ],
      "metadata": {
        "id": "iuOjJwi5e_4i"
      },
      "execution_count": null,
      "outputs": []
    },
    {
      "cell_type": "code",
      "source": [
        "import numpy as np\n",
        "import matplotlib.pyplot as plt\n",
        "\n",
        "jumlah_kucing = np.array([3, 2, 1, 1, 2, 3, 2, 1, 0, 2])\n",
        "plt.hist(jumlah_kucing, bins=4)\n",
        "plt.show()"
      ],
      "metadata": {
        "colab": {
          "base_uri": "https://localhost:8080/",
          "height": 430
        },
        "id": "7702cYQhfJ5N",
        "outputId": "29e73fb5-913a-4251-803d-4ebcce1cc6a0"
      },
      "execution_count": 2,
      "outputs": [
        {
          "output_type": "display_data",
          "data": {
            "text/plain": [
              "<Figure size 640x480 with 1 Axes>"
            ],
            "image/png": "[encoded data removed]"
          },
          "metadata": {}
        }
      ]
    },
    {
      "cell_type": "markdown",
      "source": [
        "**Skewness**\n",
        "\n",
        "Skewness merupakan parameter statistik yang digunakan untuk mengukur kesimetrisan sebuah distribusi data. Ia mampu memberikan kita gambaran tentang banyaknya data yang menyimpang dari symmetric distribution. Parameter ini memiliki jangkauan nilai mulai dari negatif hingga positif\n",
        "\n",
        "*  Nilai skewness positif menggambarkan data yang memiliki distribusi yang cenderung right-skewed.\n",
        "*  Nilai skewness nol menggambarkan data yang memiliki distribusi simetris sempurna.\n",
        "*  Nilai skewness negatif merepresentasikan data dengan distribusi yang cenderung left-skewed."
      ],
      "metadata": {
        "id": "-y82v6XDfh0b"
      }
    },
    {
      "cell_type": "code",
      "source": [
        "import numpy as np\n",
        "import pandas as pd\n",
        "\n",
        "jumlah_kucing = np.array([3, 2, 1, 1, 2, 3, 2, 1, 0, 2])\n",
        "jumlah_kucing_series = pd.Series(jumlah_kucing)\n",
        "jumlah_kucing_series.skew()"
      ],
      "metadata": {
        "colab": {
          "base_uri": "https://localhost:8080/"
        },
        "id": "wlg2UWwZfY5M",
        "outputId": "c49dab9d-66c8-4ed3-af8a-2d815fb380aa"
      },
      "execution_count": 5,
      "outputs": [
        {
          "output_type": "execute_result",
          "data": {
            "text/plain": [
              "-0.2342427896421018"
            ]
          },
          "metadata": {},
          "execution_count": 5
        }
      ]
    },
    {
      "cell_type": "markdown",
      "source": [
        "Nilai tersebut (-0.23) menunjukkan bahwa data kita cenderung memiliki distribusi left-skewed.  "
      ],
      "metadata": {
        "id": "21oKk2QSgBbz"
      }
    },
    {
      "cell_type": "code",
      "source": [],
      "metadata": {
        "id": "SguLH4tigJ_V"
      },
      "execution_count": null,
      "outputs": []
    }
  ]
}